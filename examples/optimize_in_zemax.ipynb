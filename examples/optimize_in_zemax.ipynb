{
 "cells": [
  {
   "cell_type": "markdown",
   "metadata": {},
   "source": [
    "### Optimise in Zemax\n",
    "\n",
    "#### In this notebook we optimise the radius of a lens in order to minimize spot size at image plane. To do so I use Zemax's damped least squares optimization routine."
   ]
  },
  {
   "cell_type": "markdown",
   "metadata": {},
   "source": [
    "![image](../data/pics/simple_no_optimised.PNG)"
   ]
  },
  {
   "cell_type": "code",
   "execution_count": 2,
   "metadata": {},
   "outputs": [
    {
     "name": "stdout",
     "output_type": "stream",
     "text": [
      "Found OpticStudio at:   %sc:\\program files\\zemax opticstudio\n",
      "Connected to OpticStudio\n",
      "Serial #:  L121911\n"
     ]
    }
   ],
   "source": [
    "import os \n",
    "import sys\n",
    "import h5py\n",
    "path = os.path.dirname(os.path.dirname(os.path.realpath(\"__file__\")))\n",
    "sys.path.insert(0,path)\n",
    "\n",
    "import numpy as np\n",
    "import matplotlib.pyplot as plt\n",
    "import time\n",
    "\n",
    "from utils.api_functions import *\n",
    "from utils.opt_functions import *\n",
    "\n",
    "\n",
    "%run -i \"\\\\alfs1.physics.ox.ac.uk\\al\\howards\\Zemax\\ZOS-API Projects\\PythonZOSConnection\\PythonZOSConnection.py\"\n",
    "\n",
    "fast_system(TheSystem) # this speeds up the program."
   ]
  },
  {
   "cell_type": "markdown",
   "metadata": {},
   "source": [
    "Set Up Merit Function"
   ]
  },
  {
   "cell_type": "code",
   "execution_count": 3,
   "metadata": {},
   "outputs": [],
   "source": [
    "#we can set up the merit function here.\n",
    "MFE = TheSystem.MFE\n",
    "\n",
    "merit = 'RMS_Spot_Size.mf'\n",
    "\n",
    "MFE.LoadMeritFunction(path + '/data/Merits/RMS_Spot_Size.mf')\n"
   ]
  },
  {
   "cell_type": "code",
   "execution_count": 4,
   "metadata": {},
   "outputs": [],
   "source": [
    "# here we set up the variable parameters to be optimized.\n",
    "LDE = TheSystem.LDE \n",
    "\n",
    "var_array  = np.array([1,1,None]) #for element in index 1, make radius variable and dont change thickness.\n",
    "\n",
    "make_variable(LDE,var_array)\n"
   ]
  },
  {
   "cell_type": "code",
   "execution_count": 5,
   "metadata": {},
   "outputs": [
    {
     "name": "stdout",
     "output_type": "stream",
     "text": [
      "final loss = 4.135060444002978\n",
      "final loss = 0.04254376573452212\n"
     ]
    }
   ],
   "source": [
    "loss = calc_merit(MFE)\n",
    "print('final loss = ' + str(loss))\n",
    "\n",
    "local_optimisation(TheSystem, ZOSAPI, algorithm = 'DLS', cycles = 50, cores = 1)\n",
    "\n",
    "loss = calc_merit(MFE)\n",
    "print('final loss = ' + str(loss))"
   ]
  },
  {
   "cell_type": "markdown",
   "metadata": {},
   "source": [
    "Lets see what the final setup looks like...\n",
    "\n",
    "![image](../data/pics/simple_optimised.PNG) \n",
    "\n",
    "(yeah yeah i stole the picture from the other one but they looked the same anyway)"
   ]
  }
 ],
 "metadata": {
  "interpreter": {
   "hash": "52e4c0a1c4bef447ecd973773e96855b75820a45016d8517b2af1ad08323c103"
  },
  "kernelspec": {
   "display_name": "Python 3.8.8 ('base')",
   "language": "python",
   "name": "python3"
  },
  "language_info": {
   "codemirror_mode": {
    "name": "ipython",
    "version": 3
   },
   "file_extension": ".py",
   "mimetype": "text/x-python",
   "name": "python",
   "nbconvert_exporter": "python",
   "pygments_lexer": "ipython3",
   "version": "3.8.8"
  },
  "orig_nbformat": 4
 },
 "nbformat": 4,
 "nbformat_minor": 2
}
