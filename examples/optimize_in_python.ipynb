{
 "cells": [
  {
   "cell_type": "markdown",
   "metadata": {},
   "source": [
    "### Optimise in Python\n",
    "\n",
    "#### In this notebook we optimise the radius of a lens in order to minimize spot size at image plane. To do so I use gradient descent within python (rather than using Zemax's optimisation)."
   ]
  },
  {
   "cell_type": "markdown",
   "metadata": {},
   "source": [
    "System before optimisation looks like...\n",
    "\n",
    "![image](../data/pics/simple_no_optimised.PNG)"
   ]
  },
  {
   "cell_type": "code",
   "execution_count": 4,
   "metadata": {},
   "outputs": [
    {
     "name": "stdout",
     "output_type": "stream",
     "text": [
      "Found OpticStudio at:   %sc:\\program files\\zemax opticstudio\n",
      "Connected to OpticStudio\n",
      "Serial #:  L121911\n"
     ]
    }
   ],
   "source": [
    "import os \n",
    "import sys\n",
    "import h5py\n",
    "path = os.path.dirname(os.path.dirname(os.path.realpath(\"__file__\")))\n",
    "sys.path.insert(0,path)\n",
    "\n",
    "import numpy as np\n",
    "import matplotlib.pyplot as plt\n",
    "import time\n",
    "\n",
    "from utils.api_functions import *\n",
    "from utils.opt_functions import *\n",
    "\n",
    "\n",
    "%run -i \"\\\\alfs1.physics.ox.ac.uk\\al\\howards\\Zemax\\ZOS-API Projects\\PythonZOSConnection\\PythonZOSConnection.py\"\n",
    "\n",
    "fast_system(TheSystem) # this speeds up the program.\n"
   ]
  },
  {
   "cell_type": "markdown",
   "metadata": {},
   "source": [
    "Set up Merit Function"
   ]
  },
  {
   "cell_type": "code",
   "execution_count": 5,
   "metadata": {},
   "outputs": [],
   "source": [
    "#we can set up the merit function here.\n",
    "MFE = TheSystem.MFE\n",
    "\n",
    "merit = 'RMS_Spot_Size.mf'\n",
    "\n",
    "MFE.LoadMeritFunction(path + '/data/Merits/RMS_Spot_Size.mf')"
   ]
  },
  {
   "cell_type": "markdown",
   "metadata": {},
   "source": [
    "Lets try implement gradient descent. Also its important how long it takes"
   ]
  },
  {
   "cell_type": "code",
   "execution_count": 3,
   "metadata": {},
   "outputs": [
    {
     "name": "stdout",
     "output_type": "stream",
     "text": [
      "100% done in 18.28 seconds\n"
     ]
    }
   ],
   "source": [
    "LDE = TheSystem.LDE #Initialize the Lens Data Editor.\n",
    "\n",
    "\n",
    "iterations = 500\n",
    "loss_array = np.zeros(iterations)\n",
    "x_array = np.zeros(iterations)\n",
    "\n",
    "learning_rate = np.ones(iterations) \n",
    "learning_rate[300:400] *= 0.5\n",
    "learning_rate[400:500] *= 0.1 \n",
    "\n",
    "\n",
    "\n",
    "x0 = 70 #initial guess for radius\n",
    "\n",
    "set_array = np.array([[1,x0,None]]) #for element 1, change radius to x0 and dont change thickness.\n",
    "\n",
    "set_parameter(LDE,set_array)\n",
    "loss = calc_merit(MFE)\n",
    "\n",
    "x_array[0] = x0\n",
    "loss_array[0] = loss\n",
    "\n",
    "\n",
    "x = 1.01 * x0 #start with small pertubation\n",
    "\n",
    "\n",
    "\n",
    "tic = time.time()\n",
    "for i in range(1,iterations):\n",
    "    sys.stdout.write('\\r'+(\"%.0f%% done\" % (i/iterations * 100)))\n",
    "\n",
    "\n",
    "    set_parameter(LDE,np.array([[1, x, None]]))\n",
    "    loss = calc_merit(MFE)\n",
    "\n",
    "    x_array[i] = x\n",
    "    loss_array[i] = loss\n",
    "\n",
    "    grad = calculate_grad(loss_array[i-1:i+1],x_array[i-1:i+1])\n",
    "    \n",
    "    x -= learning_rate[i] * grad\n",
    "\n",
    "\n",
    "toc = time.time()\n",
    "print(' in '+ str(np.round(toc-tic,2)) + ' seconds')"
   ]
  },
  {
   "cell_type": "code",
   "execution_count": 8,
   "metadata": {},
   "outputs": [
    {
     "name": "stdout",
     "output_type": "stream",
     "text": [
      "final loss = 0.05107568838287888\n"
     ]
    },
    {
     "data": {
      "image/png": "[encoded data removed]",
      "text/plain": [
       "<Figure size 432x288 with 2 Axes>"
      ]
     },
     "metadata": {
      "needs_background": "light"
     },
     "output_type": "display_data"
    }
   ],
   "source": [
    "fig,ax = plt.subplots(1,2)\n",
    "\n",
    "ax[0].plot(loss_array[1:]);ax[0].set_xlabel('iteration');ax[0].set_ylabel('Loss');\n",
    "ax[1].plot(x_array[1:]);ax[1].set_xlabel('iteration');ax[1].set_ylabel('Radius [mm]');\n",
    "plt.tight_layout()\n",
    "\n",
    "print('final loss = ' + str(loss))"
   ]
  },
  {
   "cell_type": "markdown",
   "metadata": {},
   "source": [
    "Lets look at our final results\n",
    "\n",
    "![image](../data/pics/simple_optimised.PNG)"
   ]
  },
  {
   "cell_type": "markdown",
   "metadata": {},
   "source": []
  }
 ],
 "metadata": {
  "interpreter": {
   "hash": "52e4c0a1c4bef447ecd973773e96855b75820a45016d8517b2af1ad08323c103"
  },
  "kernelspec": {
   "display_name": "Python 3.8.8 ('base')",
   "language": "python",
   "name": "python3"
  },
  "language_info": {
   "codemirror_mode": {
    "name": "ipython",
    "version": 3
   },
   "file_extension": ".py",
   "mimetype": "text/x-python",
   "name": "python",
   "nbconvert_exporter": "python",
   "pygments_lexer": "ipython3",
   "version": "3.8.8"
  },
  "orig_nbformat": 4
 },
 "nbformat": 4,
 "nbformat_minor": 2
}
