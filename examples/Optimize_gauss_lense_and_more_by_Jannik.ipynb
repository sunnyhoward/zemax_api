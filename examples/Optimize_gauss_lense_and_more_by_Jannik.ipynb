{
 "cells": [
  {
   "cell_type": "markdown",
   "metadata": {},
   "source": []
  },
  {
   "cell_type": "markdown",
   "metadata": {},
   "source": []
  },
  {
   "cell_type": "code",
   "execution_count": 49,
   "metadata": {},
   "outputs": [
    {
     "name": "stdout",
     "output_type": "stream",
     "text": [
      "Found OpticStudio at:   %sc:\\program files\\zemax opticstudio\n",
      "Connected to OpticStudio\n",
      "Serial #:  L123525\n"
     ]
    }
   ],
   "source": [
    "import os \n",
    "import sys\n",
    "import h5py\n",
    "path = os.path.dirname(os.path.dirname(os.path.realpath(\"__file__\")))\n",
    "sys.path.insert(0,path)\n",
    "#print(sys.version_info)\n",
    "import numpy as np\n",
    "import matplotlib.pyplot as plt\n",
    "import time\n",
    "\n",
    "from utils.api_functions import *\n",
    "from utils.opt_functions import *\n",
    "\n",
    "\n",
    "%run -i \"C:\\Users\\esslinger\\Documents\\Zemax\\ZOS-API Projects\\PythonZOSConnection\\PythonZOSConnection.py\"\n",
    "\n",
    "fast_system(TheSystem) # this speeds up the program."
   ]
  },
  {
   "cell_type": "markdown",
   "metadata": {},
   "source": [
    "Compare Merit Function change vs not change"
   ]
  },
  {
   "cell_type": "code",
   "execution_count": 6,
   "metadata": {},
   "outputs": [],
   "source": [
    "#we can set up the merit function here.\n",
    "MFE = TheSystem.MFE\n",
    "\n",
    "\n",
    "for i in np.arange(10):\n",
    "    MFE.LoadMeritFunction(path + '/data/Merits/LO_standard.mf')\n",
    "    calc_merit(MFE)\n",
    "    MFE.LoadMeritFunction(path + '/data/Merits/LO_standard_modified.mf')\n",
    "    calc_merit(MFE)"
   ]
  },
  {
   "cell_type": "code",
   "execution_count": 7,
   "metadata": {},
   "outputs": [],
   "source": [
    "#we can set up the merit function here.\n",
    "MFE = TheSystem.MFE\n",
    "\n",
    "\n",
    "MFE.LoadMeritFunction(path + '/data/Merits/LO_standard.mf')\n",
    "for i in np.arange(20):\n",
    "    calc_merit(MFE)\n"
   ]
  },
  {
   "cell_type": "markdown",
   "metadata": {},
   "source": [
    "Simple System: About 50% slower when switching Merit function every time (2*1000 evaluations) (14.2s vs 10.6s)\n",
    "High computational requirements (2000 Fields and LO system)(2*10 evaluations): 5 min 28s vs 5 min 13s\n",
    "\n"
   ]
  },
  {
   "cell_type": "markdown",
   "metadata": {},
   "source": [
    "Compare 1x10 optimizations within ZOS to 10x1 optimization in ZOS -> extract more merit function to lens parameter data points"
   ]
  },
  {
   "cell_type": "code",
   "execution_count": 2,
   "metadata": {},
   "outputs": [
    {
     "name": "stdout",
     "output_type": "stream",
     "text": [
      "(array([ 1.00000000e+06, -1.00000000e+06,  1.12900000e+01,  2.84000000e+00,\n",
      "        2.00000000e-01,  2.00000000e+00,  2.13662570e+01,  2.28000000e+00,\n",
      "        4.46000000e+00,  2.54119830e+00,  2.29000000e+00,  2.00000000e-01,\n",
      "        3.24000000e+00,  9.52148611e-01,  0.00000000e+00,  0.00000000e+00,\n",
      "        8.44000000e+00,  0.00000000e+00,  0.00000000e+00,  9.09000000e+00,\n",
      "        0.00000000e+00,  0.00000000e+00,  4.62000000e+00,  0.00000000e+00,\n",
      "        0.00000000e+00,  5.19000000e+00,  0.00000000e+00,  0.00000000e+00,\n",
      "        1.50000000e+00,  0.00000000e+00,  0.00000000e+00,  1.50000000e+00,\n",
      "        0.00000000e+00,  0.00000000e+00,  5.19000000e+00,  0.00000000e+00,\n",
      "        0.00000000e+00,  4.62000000e+00,  0.00000000e+00,  0.00000000e+00,\n",
      "        9.09000000e+00,  0.00000000e+00,  0.00000000e+00,  8.44000000e+00,\n",
      "        0.00000000e+00,  0.00000000e+00,  9.52148611e-01,  3.24000000e+00,\n",
      "        2.00000000e-01,  2.29000000e+00,  2.54119830e+00,  4.46000000e+00,\n",
      "        2.28000000e+00,  2.13662570e+01,  2.00000000e+00,  2.00000000e-01,\n",
      "        2.84000000e+00,  1.12900000e+01,  0.00000000e+00,             inf]), array([     inf,      inf,      inf,   -7.36 ,   -9.78 , -122.1  ,\n",
      "        -19.74 ,  -13.505,   11.48 ,  -10.74 ,   -9.16 ,  -16.23 ,\n",
      "       -108.5  ,  -12.12 ,      inf,      inf,      inf,      inf,\n",
      "            inf,      inf,      inf,      inf,      inf,      inf,\n",
      "            inf,      inf,      inf,      inf,      inf,      inf,\n",
      "            inf,      inf,      inf,      inf,      inf,      inf,\n",
      "            inf,      inf,      inf,      inf,      inf,      inf,\n",
      "            inf,      inf,      inf,      inf,      inf,   12.12 ,\n",
      "        108.5  ,   16.23 ,    9.16 ,   10.74 ,  -11.48 ,   13.505,\n",
      "         19.74 ,  122.1  ,    9.78 ,    7.36 ,      inf,      inf]))\n",
      "0.07848805720506026\n",
      "------\n",
      "0.024009539067582297\n",
      "(array([ 1.00000000e+06, -1.00000000e+06,  1.12900000e+01,  2.84000000e+00,\n",
      "        2.00000000e-01,  2.00000000e+00,  2.13662570e+01,  2.28000000e+00,\n",
      "        4.46000000e+00,  2.54119830e+00,  2.29000000e+00,  2.00000000e-01,\n",
      "        3.24000000e+00,  9.52148611e-01,  0.00000000e+00,  0.00000000e+00,\n",
      "        8.44000000e+00,  0.00000000e+00,  0.00000000e+00,  9.09000000e+00,\n",
      "        0.00000000e+00,  0.00000000e+00,  4.62000000e+00,  0.00000000e+00,\n",
      "        0.00000000e+00,  5.19000000e+00,  0.00000000e+00,  0.00000000e+00,\n",
      "        1.50000000e+00,  0.00000000e+00,  0.00000000e+00,  1.50000000e+00,\n",
      "        0.00000000e+00,  0.00000000e+00,  5.19000000e+00,  0.00000000e+00,\n",
      "        0.00000000e+00,  4.62000000e+00,  0.00000000e+00,  0.00000000e+00,\n",
      "        9.09000000e+00,  0.00000000e+00,  0.00000000e+00,  8.44000000e+00,\n",
      "        0.00000000e+00,  0.00000000e+00,  9.52148611e-01,  3.24000000e+00,\n",
      "        2.00000000e-01,  2.29000000e+00,  2.54119830e+00,  4.46000000e+00,\n",
      "        2.28000000e+00,  2.13662570e+01,  2.00000000e+00,  2.00000000e-01,\n",
      "        2.84000000e+00,  1.12900000e+01,  0.00000000e+00,             inf]), array([          inf,           inf,           inf,   -7.36      ,\n",
      "         -9.78      , -122.1       ,  -19.74      ,  -13.49965486,\n",
      "         11.48      ,  -10.74      ,   -9.16      ,  -16.23      ,\n",
      "       -108.5       ,  -12.12      ,           inf,           inf,\n",
      "                 inf,           inf,           inf,           inf,\n",
      "                 inf,           inf,           inf,           inf,\n",
      "                 inf,           inf,           inf,           inf,\n",
      "                 inf,           inf,           inf,           inf,\n",
      "                 inf,           inf,           inf,           inf,\n",
      "                 inf,           inf,           inf,           inf,\n",
      "                 inf,           inf,           inf,           inf,\n",
      "                 inf,           inf,           inf,   12.12      ,\n",
      "        108.5       ,   16.23      ,    9.16      ,   10.74      ,\n",
      "        -11.48      ,   13.49965486,   19.74      ,  122.1       ,\n",
      "          9.78      ,    7.36      ,           inf,           inf]))\n",
      "------\n"
     ]
    }
   ],
   "source": [
    "LDE = TheSystem.LDE\n",
    "MFE = TheSystem.MFE\n",
    "#MFE.LoadMeritFunction(path + '/data/Merits/Gauss_Lense_youtube.mf')\n",
    "print(get_parameter(LDE))\n",
    "print(calc_merit(MFE))\n",
    "print('------')\n",
    "local_optimisation(TheSystem, ZOSAPI, algorithm = 'DLS', cycles = 10)\n",
    "print(calc_merit(MFE))\n",
    "print(get_parameter(LDE))\n",
    "print('------')"
   ]
  },
  {
   "cell_type": "code",
   "execution_count": 3,
   "metadata": {},
   "outputs": [
    {
     "name": "stdout",
     "output_type": "stream",
     "text": [
      "0.024009539067582297\n",
      "[0.02400954 0.02400954 0.02400954 0.02400954 0.02400954 0.02400954\n",
      " 0.02400954 0.02400954 0.02400954 0.02400954]\n"
     ]
    }
   ],
   "source": [
    "print(calc_merit(MFE))\n",
    "thickness, radius, merits = local_optimisation_n_single_cycles(TheSystem, ZOSAPI, algorithm = 'DLS', cycles=10)\n",
    "print(merits)"
   ]
  },
  {
   "cell_type": "markdown",
   "metadata": {},
   "source": [
    "Simple system: About 10 times longer if doing 10 single steps\n",
    "High computational requirements (2000 Fields and LO system): 10 Steps at once: 11 min 58s\n",
    "10 single steps: 15 min 56s"
   ]
  },
  {
   "cell_type": "markdown",
   "metadata": {},
   "source": [
    "Test optimization within python using dual annealing as example"
   ]
  },
  {
   "cell_type": "code",
   "execution_count": 50,
   "metadata": {},
   "outputs": [
    {
     "name": "stdout",
     "output_type": "stream",
     "text": [
      "(array([        inf,  8.74665785,  0.5       , 14.00024419,  3.77696589,\n",
      "        4.9001318 , 18.428     ,  3.77696589, 10.8339285 ,  0.5       ,\n",
      "        6.85817491, 57.31453791,         inf]), array([         inf,  54.15324617, 152.52192094,  35.99569578,\n",
      "                inf,  22.30253501,          inf, -25.68503303,\n",
      "                inf, -36.98022073, 196.4173341 , -67.14755002,\n",
      "                inf]))\n",
      "0.14061524753143703\n",
      "0.08261672928405754\n",
      "[0.13634428 0.13051909]\n",
      "0.08261672928405754\n",
      "(array([        inf,  8.74665785,  0.5       , 14.00024419,  3.77696589,\n",
      "       13.63442756, 13.05190868,  3.77696589, 10.8339285 ,  0.5       ,\n",
      "        6.85817491, 57.31453791,         inf]), array([         inf,  54.15324617, 152.52192094,  35.99569578,\n",
      "                inf,  22.30253501,          inf, -25.68503303,\n",
      "                inf, -36.98022073, 196.4173341 , -67.14755002,\n",
      "                inf]))\n"
     ]
    }
   ],
   "source": [
    "MFE = TheSystem.MFE\n",
    "LDE = TheSystem.LDE\n",
    "#MFE.LoadMeritFunction(path + '/data/Merits/Gauss_Lense_youtube.mf')\n",
    "radius_var_status, thickness_var_status = get_variable_status(LDE) \n",
    "print(get_parameter(LDE))\n",
    "print(calc_merit(MFE))\n",
    "ret = opt_annealing(radius_var_status, thickness_var_status, LDE, MFE, steps = 1000)\n",
    "print(ret.fun)\n",
    "print(ret.x)\n",
    "print(calc_merit(MFE))\n",
    "print(get_parameter(LDE))"
   ]
  }
 ],
 "metadata": {
  "interpreter": {
   "hash": "52e4c0a1c4bef447ecd973773e96855b75820a45016d8517b2af1ad08323c103"
  },
  "kernelspec": {
   "display_name": "Python 3.8.8 ('base')",
   "language": "python",
   "name": "python3"
  },
  "language_info": {
   "codemirror_mode": {
    "name": "ipython",
    "version": 3
   },
   "file_extension": ".py",
   "mimetype": "text/x-python",
   "name": "python",
   "nbconvert_exporter": "python",
   "pygments_lexer": "ipython3",
   "version": "3.7.11"
  },
  "orig_nbformat": 4
 },
 "nbformat": 4,
 "nbformat_minor": 2
}
