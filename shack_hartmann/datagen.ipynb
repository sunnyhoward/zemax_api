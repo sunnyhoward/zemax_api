{
 "cells": [
  {
   "cell_type": "markdown",
   "metadata": {},
   "source": [
    "#### See 'simulate_ATLAS.ipynb' for better explanation of how this works"
   ]
  },
  {
   "cell_type": "code",
   "execution_count": 3,
   "metadata": {},
   "outputs": [
    {
     "name": "stdout",
     "output_type": "stream",
     "text": [
      "Found OpticStudio at:   %sc:\\program files\\zemax opticstudio\n",
      "Connected to OpticStudio\n",
      "Serial #:  L121911\n"
     ]
    }
   ],
   "source": [
    "import os \n",
    "import sys\n",
    "import h5py\n",
    "path = os.path.dirname(os.path.dirname(os.path.realpath(\"__file__\")))\n",
    "sys.path.insert(0,path)\n",
    "\n",
    "import numpy as np\n",
    "import matplotlib.pyplot as plt\n",
    "import LightPipes as lp\n",
    "from skimage.restoration import unwrap_phase\n",
    "from tqdm import tqdm\n",
    "from utils.api_functions import *\n",
    "from utils.opt_functions import *\n",
    "from shack_hartmann.sh_functions import *\n",
    "\n",
    "\n",
    "\n",
    "%run -i \"\\\\alfs1.physics.ox.ac.uk\\al\\howards\\Zemax\\ZOS-API Projects\\PythonZOSConnection\\PythonZOSConnection.py\"\n",
    "fast_system(TheSystem) # this speeds up the program."
   ]
  },
  {
   "cell_type": "code",
   "execution_count": 4,
   "metadata": {},
   "outputs": [],
   "source": [
    "n_zernike = 45\n",
    "n_lens = 67\n",
    "w_lens = 0.15 #(mm)\n",
    "aperture_value = n_lens*w_lens #this is what im saying is the width of the laser. we will cut out of it later.\n",
    "crop_size = 47*w_lens #our detector width\n",
    "Nx = 512\n",
    "peak_size = 0.2 #i dont really know what this means but it means the peaks have some width.\n",
    "\n",
    "\n",
    "zernike_surf = TheSystem.LDE.GetSurfaceAt(1)\n",
    "zernike_surf.SurfaceData.NumberOfTerms = n_zernike\n",
    "zernike_surf.SurfaceData.NormRadius = aperture_value\n",
    "# generate_zernike_file(zernike_coeffs,radius = 5) #here i create a file that can be read into zemax.\n",
    "\n",
    "rotation_surf = TheSystem.LDE.GetSurfaceAt(5)\n",
    "#\n",
    "microlens_surf = TheSystem.LDE.GetSurfaceAt(4)\n",
    "microlens_surf.SurfaceData.Par1.DoubleValue = n_lens\n",
    "microlens_surf.SurfaceData.Par2.DoubleValue = n_lens #number of lens\n",
    "microlens_surf.SurfaceData.Par3.DoubleValue = w_lens\n",
    "microlens_surf.SurfaceData.Par4.DoubleValue = w_lens #lens width in mm\n",
    "\n",
    "TheSystem.SystemData.Aperture.ApertureValue = aperture_value\n",
    "TheSystem.SystemData.Aperture.ApodizationType = 1\n",
    "TheSystem.SystemData.Aperture.ApodizationFactor = 1\n",
    "\n",
    "wavelengths = np.arange(0.750,0.850,0.010)\n",
    "rotations = np.linspace(-1,1,9)"
   ]
  },
  {
   "cell_type": "code",
   "execution_count": 5,
   "metadata": {},
   "outputs": [],
   "source": [
    "weights = np.flip(np.arange(1,45,1))**5\n",
    "p = weights/np.sum(weights) #create weights to prioritize low order abberations\n",
    "Nx = 512\n",
    "N=Nx\n",
    "chunks = 200\n",
    "chunksize = 100"
   ]
  },
  {
   "cell_type": "code",
   "execution_count": 6,
   "metadata": {},
   "outputs": [
    {
     "name": "stdout",
     "output_type": "stream",
     "text": [
      "0.0\n"
     ]
    },
    {
     "ename": "KeyboardInterrupt",
     "evalue": "",
     "output_type": "error",
     "traceback": [
      "\u001b[1;31m---------------------------------------------------------------------------\u001b[0m",
      "\u001b[1;31mKeyboardInterrupt\u001b[0m                         Traceback (most recent call last)",
      "\u001b[1;32m\\\\alfs1.physics.ox.ac.uk\\al\\howards\\Zemax\\ZOS-API Projects\\PythonZOSConnection\\PythonZOSConnection.py\u001b[0m in \u001b[0;36m<module>\u001b[1;34m\u001b[0m\n\u001b[0;32m     21\u001b[0m \u001b[1;33m\u001b[0m\u001b[0m\n\u001b[0;32m     22\u001b[0m \u001b[1;33m\u001b[0m\u001b[0m\n\u001b[1;32m---> 23\u001b[1;33m         \u001b[0mimages\u001b[0m\u001b[1;33m[\u001b[0m\u001b[0mi\u001b[0m\u001b[1;33m]\u001b[0m \u001b[1;33m=\u001b[0m \u001b[0mget_spots\u001b[0m\u001b[1;33m(\u001b[0m\u001b[0mZOSAPI\u001b[0m\u001b[1;33m,\u001b[0m\u001b[0mTheSystem\u001b[0m\u001b[1;33m,\u001b[0m\u001b[0mNx\u001b[0m\u001b[1;33m,\u001b[0m\u001b[0mrays\u001b[0m\u001b[1;33m=\u001b[0m\u001b[1;36m30\u001b[0m\u001b[1;33m,\u001b[0m\u001b[0mimagesize\u001b[0m\u001b[1;33m=\u001b[0m\u001b[0mcrop_size\u001b[0m\u001b[1;33m,\u001b[0m\u001b[0mfieldsize\u001b[0m \u001b[1;33m=\u001b[0m \u001b[0mpeak_size\u001b[0m\u001b[1;33m)\u001b[0m \u001b[1;31m# get spot pattern\u001b[0m\u001b[1;33m\u001b[0m\u001b[1;33m\u001b[0m\u001b[0m\n\u001b[0m\u001b[0;32m     24\u001b[0m         \u001b[0mzernikes\u001b[0m\u001b[1;33m[\u001b[0m\u001b[0mi\u001b[0m\u001b[1;33m]\u001b[0m \u001b[1;33m=\u001b[0m \u001b[0mzernike_coeffs\u001b[0m\u001b[1;33m\u001b[0m\u001b[1;33m\u001b[0m\u001b[0m\n\u001b[0;32m     25\u001b[0m \u001b[1;33m\u001b[0m\u001b[0m\n",
      "\u001b[1;32m\\\\alfs1.physics.ox.ac.uk\\al\\howards\\zemax_api\\shack_hartmann\\sh_functions.py\u001b[0m in \u001b[0;36mget_spots\u001b[1;34m(ZOSAPI, TheSystem, Nx, rays, imagesize, fieldsize)\u001b[0m\n\u001b[0;32m     53\u001b[0m     \u001b[0mgia_results\u001b[0m \u001b[1;33m=\u001b[0m \u001b[0mgia\u001b[0m\u001b[1;33m.\u001b[0m\u001b[0mGetResults\u001b[0m\u001b[1;33m(\u001b[0m\u001b[1;33m)\u001b[0m\u001b[1;33m\u001b[0m\u001b[1;33m\u001b[0m\u001b[0m\n\u001b[0;32m     54\u001b[0m \u001b[1;33m\u001b[0m\u001b[0m\n\u001b[1;32m---> 55\u001b[1;33m     \u001b[0mgia\u001b[0m\u001b[1;33m.\u001b[0m\u001b[0mApplyAndWaitForCompletion\u001b[0m\u001b[1;33m(\u001b[0m\u001b[1;33m)\u001b[0m\u001b[1;33m\u001b[0m\u001b[1;33m\u001b[0m\u001b[0m\n\u001b[0m\u001b[0;32m     56\u001b[0m \u001b[1;33m\u001b[0m\u001b[0m\n\u001b[0;32m     57\u001b[0m     \u001b[0mspots\u001b[0m \u001b[1;33m=\u001b[0m \u001b[0mnp\u001b[0m\u001b[1;33m.\u001b[0m\u001b[0marray\u001b[0m\u001b[1;33m(\u001b[0m\u001b[0mlist\u001b[0m\u001b[1;33m(\u001b[0m\u001b[0mgia_results\u001b[0m\u001b[1;33m.\u001b[0m\u001b[0mGetDataGrid\u001b[0m\u001b[1;33m(\u001b[0m\u001b[1;36m0\u001b[0m\u001b[1;33m)\u001b[0m\u001b[1;33m.\u001b[0m\u001b[0mValues\u001b[0m\u001b[1;33m)\u001b[0m\u001b[1;33m)\u001b[0m\u001b[1;33m.\u001b[0m\u001b[0mreshape\u001b[0m\u001b[1;33m(\u001b[0m\u001b[1;33m-\u001b[0m\u001b[1;36m1\u001b[0m\u001b[1;33m,\u001b[0m\u001b[0mNx\u001b[0m\u001b[1;33m)\u001b[0m\u001b[1;33m\u001b[0m\u001b[1;33m\u001b[0m\u001b[0m\n",
      "\u001b[1;31mKeyboardInterrupt\u001b[0m: "
     ]
    }
   ],
   "source": [
    "\n",
    "for a in tqdm(range(chunks)):\n",
    "    images = np.zeros([chunksize,N,N])\n",
    "    zernikes = np.zeros([chunksize,n_zernike])\n",
    "\n",
    "    for i in range(chunksize):\n",
    "        \n",
    "\n",
    "\n",
    "        # Generate abberations\n",
    "        main_aberration = np.random.choice(np.arange(1,45), p = p)\n",
    "        zernike_coeffs = np.random.rand(n_zernike)/(1+np.abs(np.arange(0,n_zernike,1)-main_aberration))**(2*np.random.rand(1))  \n",
    "        rotation_amount = np.random.choice(rotations) #add some rotation to detector\n",
    "\n",
    "        set_zernikes(ZOSAPI, zernike_surf, n_zernike,zernike_coeffs)\n",
    "        \n",
    "        rotation_surf.SurfaceData.set_TiltAbout_Z(rotation_amount)\n",
    "        zernike_coeffs = rot_zern_coeffs(old_coeffs = zernike_coeffs,rotation_deg = rotation_amount) #adjust zernikes accordingly.\n",
    "        \n",
    "        TheSystem.SystemData.Wavelengths.GetWavelength(1).Wavelength = np.random.choice(wavelengths) #set the wavelength\n",
    "\n",
    "\n",
    "        images[i] = get_spots(ZOSAPI,TheSystem,Nx,rays=30,imagesize=crop_size,fieldsize = peak_size) # get spot pattern\n",
    "        zernikes[i] = zernike_coeffs\n",
    "        \n",
    "    data = {'spots' : images,\n",
    "            'zernikes' : zernikes}\n",
    "\n",
    "\n",
    "    if a == 0:\n",
    "        #initialize\n",
    "        h5f = h5py.File(('zemax_match_ATLAS.h5'), 'w')\n",
    "            \n",
    "\n",
    "        h5f.create_dataset('zernikes', data=data['zernikes'], compression=\"gzip\", chunks=True, maxshape=(None,n_zernike))\n",
    "        h5f.create_dataset('spots', data=data['spots'], compression=\"gzip\", chunks=True, maxshape=(None,N,N))\n",
    "    else:\n",
    "        \n",
    "        h5f['zernikes'].resize((h5f['zernikes'].shape[0] + data['zernikes'].shape[0]),axis=0)\n",
    "        h5f['zernikes'][-data['zernikes'].shape[0]:] = data['zernikes']\n",
    "        \n",
    "        h5f['spots'].resize((h5f['spots'].shape[0] + data['spots'].shape[0]),axis=0)\n",
    "        h5f['spots'][-data['spots'].shape[0]:] = data['spots']\n",
    "\n",
    "\n",
    "\n",
    "h5f.close()\n"
   ]
  },
  {
   "cell_type": "code",
   "execution_count": null,
   "metadata": {},
   "outputs": [],
   "source": []
  }
 ],
 "metadata": {
  "interpreter": {
   "hash": "52e4c0a1c4bef447ecd973773e96855b75820a45016d8517b2af1ad08323c103"
  },
  "kernelspec": {
   "display_name": "Python 3.8.8 ('base')",
   "language": "python",
   "name": "python3"
  },
  "language_info": {
   "codemirror_mode": {
    "name": "ipython",
    "version": 3
   },
   "file_extension": ".py",
   "mimetype": "text/x-python",
   "name": "python",
   "nbconvert_exporter": "python",
   "pygments_lexer": "ipython3",
   "version": "3.8.8"
  },
  "orig_nbformat": 4
 },
 "nbformat": 4,
 "nbformat_minor": 2
}
